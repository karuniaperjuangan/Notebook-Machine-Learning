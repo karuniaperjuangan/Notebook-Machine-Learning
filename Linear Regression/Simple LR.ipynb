{
 "cells": [
  {
   "cell_type": "code",
   "execution_count": 1,
   "metadata": {},
   "outputs": [],
   "source": [
    "import numpy as np\n",
    "import matplotlib.pyplot as plt"
   ]
  },
  {
   "cell_type": "markdown",
   "metadata": {},
   "source": [
    "## Regresi Non-Iteratif ($ A^{T}A \\hat{x} = A^{T}b $)"
   ]
  },
  {
   "cell_type": "markdown",
   "metadata": {},
   "source": [
    "Misalnya kita punya pasangan x & y yang memenuhi hubungan $ y = m x + c $"
   ]
  },
  {
   "cell_type": "code",
   "execution_count": 2,
   "metadata": {},
   "outputs": [],
   "source": [
    "x = np.array([3,4,5,6,7,8,9,10,11])\n",
    "y= np.array([5.6, 8.1, 10.5, 10.9, 15.7, 16.2, 18.4, 20.1, 23.5])"
   ]
  },
  {
   "cell_type": "markdown",
   "metadata": {},
   "source": [
    "Dengan metode Alin, kita dapat menyelesaikan persamaan tadi dengan Metode Least Square dengan memecahkan persamaan\n",
    "\n",
    "$\\begin{bmatrix}\n",
    "x_{1} & 1 \\\\\n",
    "x_{2} & 1 \\\\\n",
    "... &  ...\\\\\n",
    "x_{n} & 1\n",
    "\\end{bmatrix} \\begin{bmatrix}\n",
    "\\hat{m} \\\\\n",
    "\\hat{c}\n",
    "\\end{bmatrix}  = \\begin{bmatrix}\n",
    "y_{1}  \\\\\n",
    "y_{2}  \\\\\n",
    "... \\\\\n",
    "y_{n} \n",
    "\\end{bmatrix}$"
   ]
  },
  {
   "cell_type": "code",
   "execution_count": 3,
   "metadata": {},
   "outputs": [],
   "source": [
    "def least_square_solve(x,y):\n",
    "    A= np.vstack([x,np.ones(len(x))]).transpose()\n",
    "    print(\"Left Matrix A is \\n\"+ str(A))\n",
    "    m,c = np.linalg.lstsq(A,y, rcond=None)[0]\n",
    "    print(\"Model is y = %f x + %f\"%(m,c))\n",
    "    return (m,c)"
   ]
  },
  {
   "cell_type": "code",
   "execution_count": 4,
   "metadata": {},
   "outputs": [
    {
     "name": "stdout",
     "output_type": "stream",
     "text": [
      "Left Matrix A is \n",
      "[[ 3.  1.]\n",
      " [ 4.  1.]\n",
      " [ 5.  1.]\n",
      " [ 6.  1.]\n",
      " [ 7.  1.]\n",
      " [ 8.  1.]\n",
      " [ 9.  1.]\n",
      " [10.  1.]\n",
      " [11.  1.]]\n",
      "Model is y = 2.145000 x + -0.681667\n"
     ]
    }
   ],
   "source": [
    "m,c = least_square_solve(x,y)"
   ]
  },
  {
   "cell_type": "code",
   "execution_count": 5,
   "metadata": {},
   "outputs": [
    {
     "data": {
      "image/png": "[encoded data removed]",
      "text/plain": [
       "<Figure size 432x288 with 1 Axes>"
      ]
     },
     "metadata": {
      "needs_background": "light"
     },
     "output_type": "display_data"
    }
   ],
   "source": [
    "plt.plot(x,y, 'bo')\n",
    "plt.title(\"Regresi Linear\")\n",
    "plt.xlabel(\"Nilai variabel independen x\")\n",
    "plt.ylabel(\"Nilai variabel dependen y\")\n",
    "plt.plot(x, m*x+c,'r-')\n",
    "plt.show()"
   ]
  },
  {
   "cell_type": "markdown",
   "metadata": {},
   "source": [
    "## Regresi Iteratif (Gradient Descent)"
   ]
  },
  {
   "cell_type": "markdown",
   "metadata": {},
   "source": [
    "Dengan data yang sama"
   ]
  },
  {
   "cell_type": "code",
   "execution_count": 6,
   "metadata": {},
   "outputs": [],
   "source": [
    "x = np.array([3,4,5,6,7,8,9,10,11])\n",
    "y= np.array([5.6, 8.1, 10.5, 10.9, 15.7, 16.2, 18.4, 20.1, 23.5])"
   ]
  },
  {
   "cell_type": "markdown",
   "metadata": {},
   "source": [
    "Seperti yang kita tahu, rerata jumlahan simpangan atau error dapat dituliskan sepagai $$ MSE = \\frac{1}{n} \\sum_{i=1}^{n} (\\hat{y}-y_{i})^2 = \\frac{1}{n} \\sum_{i=1}^{n} (\\hat{m}x_{i}+\\hat{c}-y_{i})^2 $$ \n",
    "\n",
    "- Jika terdapat perbedaan bentuk persamaan, cukup ubah mx+c dengan bentuk persamaan yang diinginkan"
   ]
  },
  {
   "cell_type": "markdown",
   "metadata": {},
   "source": [
    "MSE terkecil ditemukan saat turunan MSE terhadap variabel m atau c nya adalah 0. Untuk mencari rumus regresi linear, kita berusaha agar MSE bernilai sekecil mungkin. Untuk itu, kita dapat menggunakan persamaan\n",
    "\n",
    "$$ \\hat{c} = \\hat{c} - \\alpha\\frac{\\partial }{\\partial \\hat{c}} MSE \n",
    "= \\hat{c} - \\alpha\\frac{\\partial }{\\partial \\hat{c}} \\frac{1}{n} \\sum_{i=1}^{n} (\\hat{y}-y_{i})^2 $$ \n",
    "$$ \\hat{c}= \\hat{c} - 2\\alpha \\frac{1}{n} \\sum_{i=1}^{n} (\\hat{m}x_{i}+\\hat{c}-y_{i}) $$\n",
    "\n",
    "$$ \\hat{m} = \\hat{m} - \\alpha\\frac{\\partial }{\\partial \\hat{m}} MSE = \\hat{m} - \\alpha\\frac{\\partial }{\\partial \\hat{c}} \\frac{1}{n} \\sum_{i=1}^{n} (\\hat{y}-y_{i})^2 $$\n",
    "\n",
    "$$ \\hat{m}= \\hat{m} - 2\\alpha \\frac{1}{n} \\sum_{i=1}^{n} (\\hat{m}x_{i}+\\hat{c}-y_{i}) x_{i} $$\n",
    "\n",
    "dengan $ 2\\alpha$ biasa disebut learning ratenya"
   ]
  },
  {
   "cell_type": "markdown",
   "metadata": {},
   "source": [
    "Secara umum, untuk bentuk persamaan yang berbeda, persamaan $ y = \\hat{m}x+\\hat{c} $ dapat digeneralisir menjadi\n",
    "\n",
    "$$ y = a_{0} + a_{1} x_1 + a_{2} x_2 + ... + a_{n} x_n  $$\n",
    "\n",
    "dan rumus regresi linear menjadi\n",
    "$$  a_{j} = a_{j} - \\alpha\\frac{\\partial }{\\partial \\theta_{j}} \\frac{1}{n} \\sum_{i=1}^{n} (\\hat{y}-y_{i})^2 $$\n",
    "\n",
    "dengan\n",
    "$$ \\hat{y} = a_{0} + a_{1} x_{i1} + a_{2} x_{i2} + ... + a_{n} x_{in}  $$\n",
    "untuk learning rate $\\alpha$"
   ]
  },
  {
   "cell_type": "markdown",
   "metadata": {},
   "source": [
    "- Catatan : MSE hanyalah salah satu jenis cost function. Ada banyak Cost Function yang bisa dicoba untuk menyelesaikan permasalahan yang beragam. Pada kasus MSE, Cost Function adalah\n",
    "\n",
    "$$ J(\\theta) =  \\frac{1}{2n} \\sum_{i=1}^{n} (\\hat{y}-y_{i})^2 $$\n",
    "\n",
    "- $ x_1 , x_2,...,x_n $ tidak harus berupa basis polinomial, bisa juga basis lain, seperti $ln(x) , e^{j\\omega x} (Deret \\ Fourier), e^{x^2} (Fungsi\\ Gauss) $ dan sebagainya sesuai perkiraan bentuk di awal "
   ]
  },
  {
   "cell_type": "code",
   "execution_count": 7,
   "metadata": {},
   "outputs": [],
   "source": [
    "def GradDescent(x,y,alpha=0.02,epsilon=1e-10):\n",
    "    i=0\n",
    "    n = len(x)\n",
    "    m = 1\n",
    "    c = 1 #Gunakan nilai awal m & c = 1\n",
    "    cost = (1/(2*n)) * np.sum((m*x + c - y)**2)\n",
    "    delta = 1\n",
    "    while delta>epsilon and i<10000:\n",
    "        i += 1\n",
    "        c =  c- alpha/n * np.sum((c+m*x-y))\n",
    "        m = m - alpha/n * np.sum(x*(c+m*x-y))\n",
    "        prev_cost = cost\n",
    "        cost = (1/(2*n)) * np.sum((m*x + c - y)**2)\n",
    "        delta = abs(cost-prev_cost)\n",
    "        #print(\"Model persamaan saat ini adalah y = %.4f x + %.4f dengan cost %.4f\"%(m,c,cost))\n",
    "        if cost-prev_cost>0 :\n",
    "            print(\"Fungsi cost mengalami kenaikan. Coba kurangi alpha\")\n",
    "            return (None, None)\n",
    "    print(\"Terselesaikan dalam %d iterasi\"%i)\n",
    "    print(\"Model persamaan akhir adalah y = %.4f x + %.4f dengan cost %.4f\"%(m,c,cost))\n",
    "    return (m,c)"
   ]
  },
  {
   "cell_type": "code",
   "execution_count": 8,
   "metadata": {},
   "outputs": [
    {
     "name": "stdout",
     "output_type": "stream",
     "text": [
      "Terselesaikan dalam 3341 iterasi\n",
      "Model persamaan akhir adalah y = 2.1449 x + -0.6811 dengan cost 0.2621\n"
     ]
    }
   ],
   "source": [
    "m,c = GradDescent(x,y)"
   ]
  },
  {
   "cell_type": "code",
   "execution_count": 9,
   "metadata": {},
   "outputs": [
    {
     "data": {
      "image/png": "[encoded data removed]",
      "text/plain": [
       "<Figure size 432x288 with 1 Axes>"
      ]
     },
     "metadata": {
      "needs_background": "light"
     },
     "output_type": "display_data"
    }
   ],
   "source": [
    "plt.plot(x,y, 'bo')\n",
    "plt.title(\"Regresi Linear\")\n",
    "plt.xlabel(\"Nilai variabel independen x\")\n",
    "plt.ylabel(\"Nilai variabel dependen y\")\n",
    "plt.plot(x, m*x+c,'r-')\n",
    "plt.show()"
   ]
  },
  {
   "cell_type": "code",
   "execution_count": null,
   "metadata": {},
   "outputs": [],
   "source": []
  }
 ],
 "metadata": {
  "kernelspec": {
   "display_name": "Python 3",
   "language": "python",
   "name": "python3"
  },
  "language_info": {
   "codemirror_mode": {
    "name": "ipython",
    "version": 3
   },
   "file_extension": ".py",
   "mimetype": "text/x-python",
   "name": "python",
   "nbconvert_exporter": "python",
   "pygments_lexer": "ipython3",
   "version": "3.8.3"
  }
 },
 "nbformat": 4,
 "nbformat_minor": 4
}
